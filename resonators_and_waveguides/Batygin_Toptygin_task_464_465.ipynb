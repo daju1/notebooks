{
 "cells": [
  {
   "cell_type": "markdown",
   "metadata": {},
   "source": [
    "Batygin_Toptygin_task_464_465.sage\n",
    "\n",
    "В. В. БАТЫГИН, И. Н. ТОПТЫГИН\n",
    "СБОРНИК ЗАДАЧ\n",
    "по\n",
    "ЭЛЕКТРОДИНАМИКЕ\n",
    "МОСКВА 1970\n",
    "\n",
    "512. Бесконечно протяженный диэлектрический слой заполняет в вакууме область $-a<=x<=a$ и имеет проницаемости $\\epsilon$ и $\\mu$.\n",
    "Показать, что такой слой может действовать как волновод (для этого нужно, чтобы поле бегущей электромагнитной волны концентрировалось, в основном, внутри слоя). Определить типы волн, которые могут распространяться в таком волноводе. Ограничиться случаем, когда векторы поля не зависят от координаты $y$.\n",
    "\n",
    "513. Диэлектрический слой с проницаемостями $\\epsilon$, $\\mu$, заполняющий область $0<=x<=a$, нанесен на поверхность идеального\n",
    "проводника. В области $x>a$ - вакуум. Какие типы электромагнитных волн с амплитудой, убывающей при удалении от слоя, могут распространяться вдоль слоя? Сравнить возможные типы волн с системой волн, полученной в предыдущей задаче.\n",
    "\n",
    "В издании 1962 года номера этих задач 464 и 465"
   ]
  },
  {
   "cell_type": "code",
   "execution_count": 1,
   "metadata": {},
   "outputs": [],
   "source": [
    "from IPython.display import display, Math, Latex\n",
    "\n",
    "mu = var('mu')\n",
    "assume(mu, 'real')\n",
    "assume(mu>0)\n",
    "\n",
    "epsilon = var('epsilon')\n",
    "assume(epsilon, 'real')\n",
    "assume(epsilon>0)\n",
    "\n",
    "s = var ('s')\n",
    "assume(s, 'real')\n",
    "assume(s>0)\n",
    "\n",
    "kappa = var ('kappa')\n",
    "assume(kappa, 'real')\n",
    "assume(kappa>0)\n",
    "\n",
    "k = var ('k')\n",
    "assume(k, 'real')\n",
    "\n",
    "a = var('a')\n",
    "assume(a, 'real')\n",
    "assume(a>0)\n",
    "\n",
    "x = var('x')\n",
    "y = var('y')\n",
    "z = var('z')\n",
    "\n",
    "assume(x, 'real')\n",
    "assume(y, 'real')\n",
    "assume(z, 'real')\n",
    "\n",
    "c = var('c')\n",
    "assume(c, 'real')\n",
    "assume(c>0)\n",
    "\n",
    "omega = var('omega')\n",
    "assume(omega, 'real')"
   ]
  },
  {
   "cell_type": "markdown",
   "metadata": {},
   "source": [
    "$rot\\,\\vec{E} = \\mu\\,\\frac{i\\,\\omega}{c}\\,\\vec{H}$\n",
    "\n",
    "$rot\\,\\vec{H} = - \\frac{i\\,\\omega}{c} \\epsilon \\vec{E}$\n",
    "\n",
    "$rot\\,rot\\,\\vec{E} = \\mu\\,\\frac{i\\,\\omega}{c}rot\\,\\vec{H}$\n",
    "\n",
    "$rot\\,rot\\,\\vec{E} = \\mu\\,\\frac{i\\,\\omega}{c}\\left(- \\frac{i\\,\\omega}{c} \\epsilon \\vec{E}\\right)$\n",
    "\n",
    "$rot\\,rot\\,\\vec{E} = \\mu\\,\\frac{\\omega^2}{c^2} \\epsilon \\vec{E}$\n",
    "\n",
    "$rot\\,rot\\,\\vec{E} = grad\\,div\\,\\vec{E} - Laplasian\\,\\vec{E}$\n",
    "\n",
    "$Laplasian\\,\\vec{E} + \\frac{\\mu \\epsilon \\omega^2}{c^2}\\,\\vec{E} - grad\\,div\\,\\vec{E} = 0$\n",
    "\n",
    "Ищем решение в виде\n",
    "\n",
    "E = E(x) * exp(I * k * z) * exp(-I * omega * t)\n",
    "\n",
    "подставляя в исходное уравнение приходим к обыкновенному дифференциальному уравнению\n",
    "\n",
    "diff (E(x), x, 2) + (mu * epsilon * omega^2 / c^2 - k^2) * E(x) = 0\n",
    "\n",
    "для диэлектрика\n",
    "\n",
    "kappa^2 = (mu * epsilon * omega^2 / c^2 - k^2)\n",
    "\n",
    "diff (E(x), x, 2) + kappa^2 * E(x) = 0\n",
    "\n",
    "для вакуума с граничными условиями на бесконечности\n",
    "\n",
    "-s^2 = (mu * epsilon * omega^2 / c^2 - k^2)\n",
    "\n",
    "diff (E(x), x, 2) - s^2 * E(x) = 0\n"
   ]
  },
  {
   "cell_type": "code",
   "execution_count": 2,
   "metadata": {},
   "outputs": [
    {
     "name": "stdout",
     "output_type": "stream",
     "text": [
      "eq_kappa_s =\n"
     ]
    },
    {
     "data": {
      "text/latex": [
       "$$-\\frac{c^{2} s^{2} - {\\left(\\epsilon \\mu - 1\\right)} \\omega^{2}}{c^{2}} = \\kappa^{2}$$"
      ],
      "text/plain": [
       "<IPython.core.display.Math object>"
      ]
     },
     "metadata": {},
     "output_type": "display_data"
    },
    {
     "name": "stdout",
     "output_type": "stream",
     "text": [
      "eq_s_kappa =\n"
     ]
    },
    {
     "data": {
      "text/latex": [
       "$$\\frac{c^{2} s^{2} + \\omega^{2}}{c^{2}} = -\\frac{c^{2} \\kappa^{2} - \\epsilon \\mu \\omega^{2}}{c^{2}}$$"
      ],
      "text/plain": [
       "<IPython.core.display.Math object>"
      ]
     },
     "metadata": {},
     "output_type": "display_data"
    },
    {
     "name": "stdout",
     "output_type": "stream",
     "text": [
      "E_dielectric =\n"
     ]
    },
    {
     "data": {
      "text/latex": [
       "$$K_{2} \\cos\\left(\\kappa x\\right) + K_{1} \\sin\\left(\\kappa x\\right)$$"
      ],
      "text/plain": [
       "<IPython.core.display.Math object>"
      ]
     },
     "metadata": {},
     "output_type": "display_data"
    },
    {
     "name": "stdout",
     "output_type": "stream",
     "text": [
      "E_vacuum =\n"
     ]
    },
    {
     "data": {
      "text/latex": [
       "$$K_{1} e^{\\left(s x\\right)} + K_{2} e^{\\left(-s x\\right)}$$"
      ],
      "text/plain": [
       "<IPython.core.display.Math object>"
      ]
     },
     "metadata": {},
     "output_type": "display_data"
    }
   ],
   "source": [
    "# исходя из вида дифференциальных уравнений для диэлектрика и вакуума\n",
    "# записываем соотнощения для волнового вектора в виде уравнений\n",
    "eq_kappa = mu * epsilon * omega^2 / c^2 - k^2 == kappa^2\n",
    "# eq_s     = omega^2 / c^2 - k^2 == - s^2\n",
    "eq_s     = omega^2 / c^2 + s^2 == k^2\n",
    "\n",
    "eq_kappa_s = eq_kappa.subs(solve(eq_s, k^2)).full_simplify()\n",
    "print(\"eq_kappa_s =\")\n",
    "display(Math(latex(eq_kappa_s)))\n",
    "\n",
    "eq_s_kappa = eq_s.subs(solve(eq_kappa, k^2)).full_simplify()\n",
    "print(\"eq_s_kappa =\")\n",
    "display(Math(latex(eq_s_kappa)))\n",
    "\n",
    "# решаем полученные обыкновенные дифференциальные уравнения\n",
    "E = function('E')(x)\n",
    "\n",
    "de_dielectric = diff (E, x, 2) + kappa^2 * E == 0\n",
    "E_dielectric = desolve(de_dielectric, E, ivar = x)\n",
    "de_vacuum  = diff (E, x, 2) - s^2 * E == 0\n",
    "E_vacuum = desolve(de_vacuum, E, ivar = x)\n",
    "\n",
    "# получая таким образом выражения для электрического поля в диэлектрике и в вакууме\n",
    "print(\"E_dielectric =\")\n",
    "display(Math(latex(E_dielectric)))\n",
    "# _K2*cos(kappa*x) + _K1*sin(kappa*x)\n",
    "print(\"E_vacuum =\")\n",
    "display(Math(latex(E_vacuum)))\n",
    "# _K1*e^(s*x) + _K2*e^(-s*x)"
   ]
  },
  {
   "cell_type": "code",
   "execution_count": 3,
   "metadata": {},
   "outputs": [],
   "source": [
    "B1_z = var ('B1_z')\n",
    "B2_z = var ('B2_z')\n",
    "A1_z = var ('A1_z')\n",
    "A2_z = var ('A2_z')\n",
    "\n",
    "B1_x = var ('B1_x')\n",
    "B2_x = var ('B2_x')\n",
    "A1_x = var ('A1_x')\n",
    "A2_x = var ('A2_x')"
   ]
  },
  {
   "cell_type": "code",
   "execution_count": 4,
   "metadata": {},
   "outputs": [],
   "source": [
    "# выражения для электрического поля в диэлектрике и в вакууме\n",
    "E_dielectric_z (x) = B1_z*cos(kappa*x) + B2_z*sin(kappa*x)\n",
    "E_dielectric_x (x) = B1_x*cos(kappa*x) + B2_x*sin(kappa*x)\n",
    "\n",
    "# x > a\n",
    "E_vacuum2_z (x) = A2_z*e^(-s*x)\n",
    "E_vacuum2_x (x) = A2_x*e^(-s*x)\n",
    "\n",
    "# x < -a\n",
    "E_vacuum1_z (x) = A1_z*e^(s*x)\n",
    "E_vacuum1_x (x) = A1_x*e^(s*x)"
   ]
  },
  {
   "cell_type": "code",
   "execution_count": 5,
   "metadata": {},
   "outputs": [
    {
     "name": "stdout",
     "output_type": "stream",
     "text": [
      "H_dielectric_y (x) \n"
     ]
    },
    {
     "data": {
      "text/latex": [
       "$$\\frac{{\\left(i \\, \\mathit{B2}_{z} \\kappa \\cos\\left(\\kappa x\\right) - i \\, \\mathit{B1}_{z} \\kappa \\sin\\left(\\kappa x\\right) + {\\left(\\mathit{B1}_{x} \\cos\\left(\\kappa x\\right) + \\mathit{B2}_{x} \\sin\\left(\\kappa x\\right)\\right)} k\\right)} c}{\\mu \\omega}$$"
      ],
      "text/plain": [
       "<IPython.core.display.Math object>"
      ]
     },
     "metadata": {},
     "output_type": "display_data"
    },
    {
     "name": "stdout",
     "output_type": "stream",
     "text": [
      "H_vacuum1_y (x) =\n"
     ]
    },
    {
     "data": {
      "text/latex": [
       "$$\\frac{{\\left(\\mathit{A1}_{x} k e^{\\left(s x\\right)} + i \\, \\mathit{A1}_{z} s e^{\\left(s x\\right)}\\right)} c}{\\omega}$$"
      ],
      "text/plain": [
       "<IPython.core.display.Math object>"
      ]
     },
     "metadata": {},
     "output_type": "display_data"
    },
    {
     "name": "stdout",
     "output_type": "stream",
     "text": [
      "H_vacuum2_y (x) =\n"
     ]
    },
    {
     "data": {
      "text/latex": [
       "$$\\frac{{\\left(\\mathit{A2}_{x} k e^{\\left(-s x\\right)} - i \\, \\mathit{A2}_{z} s e^{\\left(-s x\\right)}\\right)} c}{\\omega}$$"
      ],
      "text/plain": [
       "<IPython.core.display.Math object>"
      ]
     },
     "metadata": {},
     "output_type": "display_data"
    }
   ],
   "source": [
    "# выражения для магнитного поля в диэлектрике и в вакууме\n",
    "# H_y = c / (I * omega * mu) * (diff(E_x, z) - diff(E_z, x))\n",
    "\n",
    "H_dielectric_y (x) = c / (I * omega * mu) * (I*k*E_dielectric_x (x) - diff(E_dielectric_z (x), x))\n",
    "H_vacuum1_y (x) = c / (I * omega) * (I*k*E_vacuum1_x (x) - diff(E_vacuum1_z (x), x))\n",
    "H_vacuum2_y (x) = c / (I * omega) * (I*k*E_vacuum2_x (x) - diff(E_vacuum2_z (x), x))\n",
    "\n",
    "H_dielectric_y (x) = c / ( omega * mu) * (k*E_dielectric_x (x) + I * diff(E_dielectric_z (x), x))\n",
    "H_vacuum1_y (x) = c / ( omega) * (k*E_vacuum1_x (x) + I * diff(E_vacuum1_z (x), x))\n",
    "H_vacuum2_y (x) = c / ( omega) * (k*E_vacuum2_x (x) + I * diff(E_vacuum2_z (x), x))\n",
    "\n",
    "print (\"H_dielectric_y (x) \")\n",
    "display(Math(latex(H_dielectric_y (x).simplify())))\n",
    "print (\"H_vacuum1_y (x) =\")\n",
    "display(Math(latex(H_vacuum1_y (x))))\n",
    "print (\"H_vacuum2_y (x) =\")\n",
    "display(Math(latex(H_vacuum2_y (x))))"
   ]
  },
  {
   "cell_type": "code",
   "execution_count": 6,
   "metadata": {},
   "outputs": [
    {
     "name": "stdout",
     "output_type": "stream",
     "text": [
      "rot_H_dielectric_x =\n"
     ]
    },
    {
     "data": {
      "text/latex": [
       "$$-\\frac{i \\, {\\left(i \\, \\mathit{B2}_{z} \\kappa \\cos\\left(\\kappa x\\right) - i \\, \\mathit{B1}_{z} \\kappa \\sin\\left(\\kappa x\\right) + {\\left(\\mathit{B1}_{x} \\cos\\left(\\kappa x\\right) + \\mathit{B2}_{x} \\sin\\left(\\kappa x\\right)\\right)} k\\right)} c k}{\\mu \\omega}$$"
      ],
      "text/plain": [
       "<IPython.core.display.Math object>"
      ]
     },
     "metadata": {},
     "output_type": "display_data"
    },
    {
     "name": "stdout",
     "output_type": "stream",
     "text": [
      "rot_H_vacuum1_x =\n"
     ]
    },
    {
     "data": {
      "text/latex": [
       "$$-\\frac{i \\, {\\left(\\mathit{A1}_{x} k e^{\\left(s x\\right)} + i \\, \\mathit{A1}_{z} s e^{\\left(s x\\right)}\\right)} c k}{\\omega}$$"
      ],
      "text/plain": [
       "<IPython.core.display.Math object>"
      ]
     },
     "metadata": {},
     "output_type": "display_data"
    },
    {
     "name": "stdout",
     "output_type": "stream",
     "text": [
      "rot_H_vacuum2_x =\n"
     ]
    },
    {
     "data": {
      "text/latex": [
       "$$-\\frac{i \\, {\\left(\\mathit{A2}_{x} k e^{\\left(-s x\\right)} - i \\, \\mathit{A2}_{z} s e^{\\left(-s x\\right)}\\right)} c k}{\\omega}$$"
      ],
      "text/plain": [
       "<IPython.core.display.Math object>"
      ]
     },
     "metadata": {},
     "output_type": "display_data"
    },
    {
     "name": "stdout",
     "output_type": "stream",
     "text": [
      "rot_H_dielectric_z =\n"
     ]
    },
    {
     "data": {
      "text/latex": [
       "$$\\frac{{\\left(-i \\, \\mathit{B1}_{z} \\kappa^{2} \\cos\\left(\\kappa x\\right) - i \\, \\mathit{B2}_{z} \\kappa^{2} \\sin\\left(\\kappa x\\right) + {\\left(\\mathit{B2}_{x} \\kappa \\cos\\left(\\kappa x\\right) - \\mathit{B1}_{x} \\kappa \\sin\\left(\\kappa x\\right)\\right)} k\\right)} c}{\\mu \\omega}$$"
      ],
      "text/plain": [
       "<IPython.core.display.Math object>"
      ]
     },
     "metadata": {},
     "output_type": "display_data"
    },
    {
     "name": "stdout",
     "output_type": "stream",
     "text": [
      "rot_H_vacuum1_z =\n"
     ]
    },
    {
     "data": {
      "text/latex": [
       "$$\\frac{{\\left(\\mathit{A1}_{x} k s e^{\\left(s x\\right)} + i \\, \\mathit{A1}_{z} s^{2} e^{\\left(s x\\right)}\\right)} c}{\\omega}$$"
      ],
      "text/plain": [
       "<IPython.core.display.Math object>"
      ]
     },
     "metadata": {},
     "output_type": "display_data"
    },
    {
     "name": "stdout",
     "output_type": "stream",
     "text": [
      "rot_H_vacuum2_z =\n"
     ]
    },
    {
     "data": {
      "text/latex": [
       "$$-\\frac{{\\left(\\mathit{A2}_{x} k s e^{\\left(-s x\\right)} - i \\, \\mathit{A2}_{z} s^{2} e^{\\left(-s x\\right)}\\right)} c}{\\omega}$$"
      ],
      "text/plain": [
       "<IPython.core.display.Math object>"
      ]
     },
     "metadata": {},
     "output_type": "display_data"
    }
   ],
   "source": [
    "# уравнение Максвелла для тока смещения\n",
    "# rot_H = -I * epsilon * omega / c * E\n",
    "# rot_H_x = - diff(H_y, z)\n",
    "# rot_H_z = diff(H_y, x)\n",
    "\n",
    "rot_H_dielectric_x = - I * k * H_dielectric_y (x)\n",
    "rot_H_vacuum1_x    = - I * k * H_vacuum1_y (x)\n",
    "rot_H_vacuum2_x    = - I * k * H_vacuum2_y (x)\n",
    "rot_H_dielectric_z = diff(H_dielectric_y (x), x)\n",
    "rot_H_vacuum1_z    = diff(H_vacuum1_y (x), x)\n",
    "rot_H_vacuum2_z    = diff(H_vacuum2_y (x), x)\n",
    "\n",
    "print (\"rot_H_dielectric_x =\")\n",
    "display(Math(latex(rot_H_dielectric_x)))\n",
    "print (\"rot_H_vacuum1_x =\")\n",
    "display(Math(latex(rot_H_vacuum1_x)))\n",
    "print (\"rot_H_vacuum2_x =\")\n",
    "display(Math(latex(rot_H_vacuum2_x)))\n",
    "print (\"rot_H_dielectric_z =\")\n",
    "display(Math(latex(rot_H_dielectric_z)))\n",
    "print (\"rot_H_vacuum1_z =\")\n",
    "display(Math(latex(rot_H_vacuum1_z)))\n",
    "print (\"rot_H_vacuum2_z =\")\n",
    "display(Math(latex(rot_H_vacuum2_z)))"
   ]
  },
  {
   "cell_type": "code",
   "execution_count": 7,
   "metadata": {},
   "outputs": [
    {
     "name": "stdout",
     "output_type": "stream",
     "text": [
      "eq_rot_H_dielectric_x =\n"
     ]
    },
    {
     "data": {
      "text/latex": [
       "$$-\\frac{i \\, {\\left(i \\, \\mathit{B2}_{z} \\kappa \\cos\\left(\\kappa x\\right) - i \\, \\mathit{B1}_{z} \\kappa \\sin\\left(\\kappa x\\right) + {\\left(\\mathit{B1}_{x} \\cos\\left(\\kappa x\\right) + \\mathit{B2}_{x} \\sin\\left(\\kappa x\\right)\\right)} k\\right)} c k}{\\mu \\omega} = -\\frac{i \\, {\\left(\\mathit{B1}_{x} \\cos\\left(\\kappa x\\right) + \\mathit{B2}_{x} \\sin\\left(\\kappa x\\right)\\right)} \\epsilon \\omega}{c}$$"
      ],
      "text/plain": [
       "<IPython.core.display.Math object>"
      ]
     },
     "metadata": {},
     "output_type": "display_data"
    },
    {
     "name": "stdout",
     "output_type": "stream",
     "text": [
      "eq_rot_H_dielectric_z =\n"
     ]
    },
    {
     "data": {
      "text/latex": [
       "$$\\frac{{\\left(-i \\, \\mathit{B1}_{z} \\kappa^{2} \\cos\\left(\\kappa x\\right) - i \\, \\mathit{B2}_{z} \\kappa^{2} \\sin\\left(\\kappa x\\right) + {\\left(\\mathit{B2}_{x} \\kappa \\cos\\left(\\kappa x\\right) - \\mathit{B1}_{x} \\kappa \\sin\\left(\\kappa x\\right)\\right)} k\\right)} c}{\\mu \\omega} = -\\frac{i \\, {\\left(\\mathit{B1}_{z} \\cos\\left(\\kappa x\\right) + \\mathit{B2}_{z} \\sin\\left(\\kappa x\\right)\\right)} \\epsilon \\omega}{c}$$"
      ],
      "text/plain": [
       "<IPython.core.display.Math object>"
      ]
     },
     "metadata": {},
     "output_type": "display_data"
    }
   ],
   "source": [
    "eq_rot_H_dielectric_x = rot_H_dielectric_x == -I * epsilon * omega / c * E_dielectric_x (x)\n",
    "eq_rot_H_dielectric_z = rot_H_dielectric_z == -I * epsilon * omega / c * E_dielectric_z (x)\n",
    "eq_rot_H_vacuum1_x     = rot_H_vacuum1_x     == -I * omega / c * E_vacuum1_x (x)\n",
    "eq_rot_H_vacuum2_x     = rot_H_vacuum2_x     == -I * omega / c * E_vacuum2_x (x)\n",
    "eq_rot_H_vacuum1_z     = rot_H_vacuum1_z     == -I * omega / c * E_vacuum1_z (x)\n",
    "eq_rot_H_vacuum2_z     = rot_H_vacuum2_z     == -I * omega / c * E_vacuum2_z (x)\n",
    "\n",
    "print (\"eq_rot_H_dielectric_x =\")\n",
    "display(Math(latex(eq_rot_H_dielectric_x.simplify())))\n",
    "print (\"eq_rot_H_dielectric_z =\")\n",
    "display(Math(latex(eq_rot_H_dielectric_z.simplify())))\n"
   ]
  },
  {
   "cell_type": "code",
   "execution_count": 8,
   "metadata": {},
   "outputs": [
    {
     "data": {
      "text/latex": [
       "$$\\left[\\mathit{B1}_{x} = -\\frac{i \\, \\mathit{B2}_{z} c^{2} k \\kappa}{c^{2} k^{2} - \\epsilon \\mu \\omega^{2}}\\right]$$"
      ],
      "text/plain": [
       "<IPython.core.display.Math object>"
      ]
     },
     "metadata": {},
     "output_type": "display_data"
    }
   ],
   "source": [
    "res = solve( eq_rot_H_dielectric_x.subs(B1_z==0, B2_x==0), B1_x)\n",
    "display(Math(latex(res)))"
   ]
  },
  {
   "cell_type": "code",
   "execution_count": 9,
   "metadata": {},
   "outputs": [
    {
     "data": {
      "text/latex": [
       "$$\\left[\\kappa = \\frac{\\sqrt{-c^{2} k^{2} + \\epsilon \\mu \\omega^{2}}}{c}\\right]$$"
      ],
      "text/plain": [
       "<IPython.core.display.Math object>"
      ]
     },
     "metadata": {},
     "output_type": "display_data"
    }
   ],
   "source": [
    "res = solve( eq_kappa, kappa)\n",
    "display(Math(latex(res)))"
   ]
  },
  {
   "cell_type": "code",
   "execution_count": 10,
   "metadata": {},
   "outputs": [
    {
     "data": {
      "text/latex": [
       "$$\\left[\\mathit{B1}_{x} = \\frac{-i \\, \\mathit{B2}_{z} c^{2} \\kappa^{2} + i \\, \\mathit{B2}_{z} \\epsilon \\mu \\omega^{2}}{c^{2} k \\kappa}\\right]$$"
      ],
      "text/plain": [
       "<IPython.core.display.Math object>"
      ]
     },
     "metadata": {},
     "output_type": "display_data"
    }
   ],
   "source": [
    "res = solve( eq_rot_H_dielectric_z.subs(B1_z==0, B2_x==0), B1_x)\n",
    "display(Math(latex(res)))"
   ]
  },
  {
   "cell_type": "code",
   "execution_count": 11,
   "metadata": {},
   "outputs": [
    {
     "name": "stdout",
     "output_type": "stream",
     "text": [
      "eqEz_a = \n"
     ]
    },
    {
     "data": {
      "text/latex": [
       "$$\\mathit{B1}_{z} \\cos\\left(a \\kappa\\right) + \\mathit{B2}_{z} \\sin\\left(a \\kappa\\right) = \\mathit{A2}_{z} e^{\\left(-a s\\right)}$$"
      ],
      "text/plain": [
       "<IPython.core.display.Math object>"
      ]
     },
     "metadata": {},
     "output_type": "display_data"
    },
    {
     "name": "stdout",
     "output_type": "stream",
     "text": [
      "eqEz_ma = \n"
     ]
    },
    {
     "data": {
      "text/latex": [
       "$$\\mathit{B1}_{z} \\cos\\left(a \\kappa\\right) - \\mathit{B2}_{z} \\sin\\left(a \\kappa\\right) = \\mathit{A1}_{z} e^{\\left(-a s\\right)}$$"
      ],
      "text/plain": [
       "<IPython.core.display.Math object>"
      ]
     },
     "metadata": {},
     "output_type": "display_data"
    }
   ],
   "source": [
    "# граничные условия на гринице вакуума и диэлектрика\n",
    "# тангенциальная компонента электрического поля\n",
    "eqEz_a  = E_dielectric_z (a)  == E_vacuum2_z (a)\n",
    "eqEz_ma = E_dielectric_z (-a) == E_vacuum1_z (-a)\n",
    "\n",
    "print (\"eqEz_a = \")\n",
    "display(Math(latex(eqEz_a)))\n",
    "print (\"eqEz_ma = \")\n",
    "display(Math(latex(eqEz_ma)))\n"
   ]
  },
  {
   "cell_type": "code",
   "execution_count": 12,
   "metadata": {},
   "outputs": [
    {
     "name": "stdout",
     "output_type": "stream",
     "text": [
      "eqEx_a =\n"
     ]
    },
    {
     "data": {
      "text/latex": [
       "$${\\left(\\mathit{B1}_{x} \\cos\\left(a \\kappa\\right) + \\mathit{B2}_{x} \\sin\\left(a \\kappa\\right)\\right)} \\epsilon = \\mathit{A2}_{x} e^{\\left(-a s\\right)}$$"
      ],
      "text/plain": [
       "<IPython.core.display.Math object>"
      ]
     },
     "metadata": {},
     "output_type": "display_data"
    },
    {
     "name": "stdout",
     "output_type": "stream",
     "text": [
      "eqEx_ma =\n"
     ]
    },
    {
     "data": {
      "text/latex": [
       "$${\\left(\\mathit{B1}_{x} \\cos\\left(a \\kappa\\right) - \\mathit{B2}_{x} \\sin\\left(a \\kappa\\right)\\right)} \\epsilon = \\mathit{A1}_{x} e^{\\left(-a s\\right)}$$"
      ],
      "text/plain": [
       "<IPython.core.display.Math object>"
      ]
     },
     "metadata": {},
     "output_type": "display_data"
    }
   ],
   "source": [
    "# нормальная компонента электрического смещения\n",
    "eqEx_a  = E_dielectric_x (a) * epsilon  == E_vacuum2_x (a)\n",
    "eqEx_ma = E_dielectric_x (-a) * epsilon == E_vacuum1_x (-a)\n",
    "\n",
    "print (\"eqEx_a =\")\n",
    "display(Math(latex(eqEx_a)))\n",
    "print (\"eqEx_ma =\")\n",
    "display(Math(latex(eqEx_ma)))\n"
   ]
  },
  {
   "cell_type": "code",
   "execution_count": 13,
   "metadata": {},
   "outputs": [
    {
     "name": "stdout",
     "output_type": "stream",
     "text": [
      "eqHy_a =\n"
     ]
    },
    {
     "data": {
      "text/latex": [
       "$$\\frac{{\\left(\\mathit{A2}_{x} k e^{\\left(-a s\\right)} - i \\, \\mathit{A2}_{z} s e^{\\left(-a s\\right)}\\right)} c}{\\omega} = \\frac{{\\left(i \\, \\mathit{B2}_{z} \\kappa \\cos\\left(a \\kappa\\right) - i \\, \\mathit{B1}_{z} \\kappa \\sin\\left(a \\kappa\\right) + {\\left(\\mathit{B1}_{x} \\cos\\left(a \\kappa\\right) + \\mathit{B2}_{x} \\sin\\left(a \\kappa\\right)\\right)} k\\right)} c}{\\mu \\omega}$$"
      ],
      "text/plain": [
       "<IPython.core.display.Math object>"
      ]
     },
     "metadata": {},
     "output_type": "display_data"
    },
    {
     "name": "stdout",
     "output_type": "stream",
     "text": [
      "eqHy_ma =\n"
     ]
    },
    {
     "data": {
      "text/latex": [
       "$$\\frac{{\\left(\\mathit{A1}_{x} k e^{\\left(-a s\\right)} + i \\, \\mathit{A1}_{z} s e^{\\left(-a s\\right)}\\right)} c}{\\omega} = \\frac{{\\left(i \\, \\mathit{B2}_{z} \\kappa \\cos\\left(a \\kappa\\right) + i \\, \\mathit{B1}_{z} \\kappa \\sin\\left(a \\kappa\\right) + {\\left(\\mathit{B1}_{x} \\cos\\left(a \\kappa\\right) - \\mathit{B2}_{x} \\sin\\left(a \\kappa\\right)\\right)} k\\right)} c}{\\mu \\omega}$$"
      ],
      "text/plain": [
       "<IPython.core.display.Math object>"
      ]
     },
     "metadata": {},
     "output_type": "display_data"
    }
   ],
   "source": [
    "# тангенциальная компонента напряженности магнитного поля\n",
    "eqHy_a  = H_vacuum2_y (a)  == H_dielectric_y (a)\n",
    "eqHy_ma = H_vacuum1_y (-a) == H_dielectric_y (-a)\n",
    "\n",
    "print (\"eqHy_a =\")\n",
    "display(Math(latex(eqHy_a)))\n",
    "print (\"eqHy_ma =\")\n",
    "display(Math(latex(eqHy_ma)))"
   ]
  },
  {
   "cell_type": "code",
   "execution_count": 14,
   "metadata": {},
   "outputs": [],
   "source": [
    "def GenerateMatrix(equsys, vars):\n",
    "    A=matrix(SR, [[(equ.lhs() - equ.rhs()).coefficient(v) for v in vars] for equ in equsys])\n",
    "    return A\n",
    "\n",
    "def GenerateMatrixSubs(equsys, vars, vars_subs):\n",
    "    A=matrix(SR, [[(equ.lhs() - equ.rhs()).subs(vars_subs).coefficient(v) for v in vars] for equ in equsys])\n",
    "    return A\n",
    "\n",
    "def GenerateMatrixMult(equsys, vars):\n",
    "    A=matrix(SR, [[(equ.lhs() - equ.rhs()).coefficient(v) * v for v in vars] for equ in equsys])\n",
    "    return A\n",
    "\n",
    "def reduceDependedRows(M):\n",
    "    print (\"\")\n",
    "    print (\"M.nrows()\", M.nrows())\n",
    "    print (\"M.ncols()\", M.ncols())\n",
    "    print (\"M.rank()\", M.rank())\n",
    "\n",
    "    M_pivot_rows = M.pivot_rows()\n",
    "    print (\"M.pivot_rows() =\", M_pivot_rows)\n",
    "\n",
    "    M_rows = M.rows()\n",
    "    for row in M_rows:\n",
    "        print (\"row =\", row)\n",
    "\n",
    "    reduced_list = []\n",
    "    for r in M_pivot_rows:\n",
    "        print (\"M_rows[\", r, \"] =\")\n",
    "        display(Math(latex(M_rows[r])))\n",
    "        reduced_list.append(M_rows[r])\n",
    "\n",
    "    reduced_M = matrix(SR, len(M_pivot_rows), M.ncols(), reduced_list)\n",
    "    reduced_M_det = reduced_M.det()\n",
    "    print (\"\")\n",
    "    print(\"reduced_M.det() =\", reduced_M_det)\n",
    "    return reduced_M"
   ]
  },
  {
   "cell_type": "code",
   "execution_count": 15,
   "metadata": {},
   "outputs": [],
   "source": [
    "def rot_H_solve(M_rotH, vars, eq_s_or_kappa, s_or_kappa):\n",
    "    x = vector(SR, vars)\n",
    "    y = vector(SR, [0, 0])\n",
    "    eqns = [(M_rotH*x)[index] == y[index] for index in [0,1]]\n",
    "    display(Math(latex(eqns)))\n",
    "    res = []\n",
    "\n",
    "    for index in [0,1]:\n",
    "        eq = eqns[index]\n",
    "        # print(eq)\n",
    "        sol = solve(eq, vars[0])\n",
    "        print(\"sol=\")\n",
    "        display(Math(latex(sol[0])))\n",
    "        # print(solve(eq, vars[1]))\n",
    "        print(\"eq_s_or_kappa =\")\n",
    "        display(Math(latex(eq_s_or_kappa)))\n",
    "        sol_s_or_kappa_2 = solve(eq_s_or_kappa, s_or_kappa^2)\n",
    "        print(\"sol_s_or_kappa_2[0].rhs()=\")\n",
    "        display(Math(latex(sol_s_or_kappa_2[0].rhs())))\n",
    "        print(\"\")\n",
    "        s = sol[0].rhs().collect(vars[1])\n",
    "        ans1 = s.subs(sol_s_or_kappa_2[0].rhs()*c^2==sol_s_or_kappa_2[0].lhs()*c^2)\n",
    "        ans2 = s.subs(-sol_s_or_kappa_2[0].rhs()*c^2==-sol_s_or_kappa_2[0].lhs()*c^2)\n",
    "\n",
    "        ans = ans1\n",
    "        if ans1.number_of_operands() > ans2.number_of_operands():\n",
    "            ans = ans2\n",
    "        print(\"ans =\")\n",
    "        display(Math(latex(ans)))\n",
    "        if omega in ans.arguments():\n",
    "            print(ans.arguments())\n",
    "            sol_omega_2 = solve(eq_s_or_kappa, omega^2)\n",
    "            print(\"sol_omega_2 =\")\n",
    "            display(Math(latex(sol_omega_2[0].rhs())))\n",
    "            som = ans.subs(omega^2 == sol_omega_2[0].rhs())\n",
    "            print(\"som =\")\n",
    "            display(Math(latex(som)))\n",
    "            som = som.full_simplify()\n",
    "            print(\"som =\")\n",
    "            display(Math(latex(som)))\n",
    "            res.append(vars[0] == som)\n",
    "        else:\n",
    "            res.append(vars[0] == ans)\n",
    "\n",
    "        print(\"\")\n",
    "    return res"
   ]
  },
  {
   "cell_type": "code",
   "execution_count": 16,
   "metadata": {},
   "outputs": [],
   "source": [
    "eqsys_rotH_dielectric = [eq_rot_H_dielectric_x*(-I)*omega/c,\n",
    "                         eq_rot_H_dielectric_z*(-I)*omega/c,\n",
    "                        ]\n",
    "\n",
    "eqsys_rotH_vacuum = [ # eq_rot_H_vacuum1_x*(-I)*omega/c,\n",
    "                      eq_rot_H_vacuum2_x*(-I)*omega/c,\n",
    "                      # eq_rot_H_vacuum1_z*(-I)*omega/c,\n",
    "                      eq_rot_H_vacuum2_z*(-I)*omega/c,\n",
    "                    ]\n",
    "\n",
    "eqsys_boundary_conditions = [eqEx_a,  eqEz_a,  # eqHy_a*(-I)*omega/c,\n",
    "                             eqEx_ma, eqEz_ma, # eqHy_ma*(-I)*omega/c,\n",
    "                            ]\n"
   ]
  },
  {
   "cell_type": "code",
   "execution_count": 17,
   "metadata": {},
   "outputs": [
    {
     "name": "stdout",
     "output_type": "stream",
     "text": [
      "even_M_rotH_dielectric =\n"
     ]
    },
    {
     "data": {
      "text/latex": [
       "$$\\left(\\begin{array}{rr}\n",
       "-\\frac{k^{2} \\cos\\left(\\kappa x\\right)}{\\mu} + \\frac{\\epsilon \\omega^{2} \\cos\\left(\\kappa x\\right)}{c^{2}} & -\\frac{i \\, k \\kappa \\cos\\left(\\kappa x\\right)}{\\mu} \\\\\n",
       "\\frac{i \\, k \\kappa \\sin\\left(\\kappa x\\right)}{\\mu} & -\\frac{\\kappa^{2} \\sin\\left(\\kappa x\\right)}{\\mu} + \\frac{\\epsilon \\omega^{2} \\sin\\left(\\kappa x\\right)}{c^{2}}\n",
       "\\end{array}\\right)$$"
      ],
      "text/plain": [
       "<IPython.core.display.Math object>"
      ]
     },
     "metadata": {},
     "output_type": "display_data"
    }
   ],
   "source": [
    "\n",
    "# чётные\n",
    "even_vars = [B1_x, B2_z, A2_x, A2_z]\n",
    "eqsys_even = [A1_z == - A2_z, A1_x == A2_x]\n",
    "\n",
    "even_vars_dielectric = [B1_x, B2_z]\n",
    "even_eqs_dielectric = [B2_x == 0, B1_z == 0]\n",
    "\n",
    "even_M_rotH_dielectric = GenerateMatrix(eqsys_rotH_dielectric, even_vars_dielectric)\n",
    "print (\"even_M_rotH_dielectric =\")\n",
    "display(Math(latex(even_M_rotH_dielectric)))"
   ]
  },
  {
   "cell_type": "code",
   "execution_count": 18,
   "metadata": {},
   "outputs": [
    {
     "data": {
      "text/latex": [
       "$$\\left[-\\frac{i \\, \\mathit{B2}_{z} k \\kappa \\cos\\left(\\kappa x\\right)}{\\mu} - {\\left(\\frac{k^{2} \\cos\\left(\\kappa x\\right)}{\\mu} - \\frac{\\epsilon \\omega^{2} \\cos\\left(\\kappa x\\right)}{c^{2}}\\right)} \\mathit{B1}_{x} = 0, \\frac{i \\, \\mathit{B1}_{x} k \\kappa \\sin\\left(\\kappa x\\right)}{\\mu} - {\\left(\\frac{\\kappa^{2} \\sin\\left(\\kappa x\\right)}{\\mu} - \\frac{\\epsilon \\omega^{2} \\sin\\left(\\kappa x\\right)}{c^{2}}\\right)} \\mathit{B2}_{z} = 0\\right]$$"
      ],
      "text/plain": [
       "<IPython.core.display.Math object>"
      ]
     },
     "metadata": {},
     "output_type": "display_data"
    },
    {
     "name": "stdout",
     "output_type": "stream",
     "text": [
      "sol=\n"
     ]
    },
    {
     "data": {
      "text/latex": [
       "$$\\mathit{B1}_{x} = -\\frac{i \\, \\mathit{B2}_{z} c^{2} k \\kappa}{c^{2} k^{2} - \\epsilon \\mu \\omega^{2}}$$"
      ],
      "text/plain": [
       "<IPython.core.display.Math object>"
      ]
     },
     "metadata": {},
     "output_type": "display_data"
    },
    {
     "name": "stdout",
     "output_type": "stream",
     "text": [
      "eq_s_or_kappa =\n"
     ]
    },
    {
     "data": {
      "text/latex": [
       "$$-k^{2} + \\frac{\\epsilon \\mu \\omega^{2}}{c^{2}} = \\kappa^{2}$$"
      ],
      "text/plain": [
       "<IPython.core.display.Math object>"
      ]
     },
     "metadata": {},
     "output_type": "display_data"
    },
    {
     "name": "stdout",
     "output_type": "stream",
     "text": [
      "sol_s_or_kappa_2[0].rhs()=\n"
     ]
    },
    {
     "data": {
      "text/latex": [
       "$$-\\frac{c^{2} k^{2} - \\epsilon \\mu \\omega^{2}}{c^{2}}$$"
      ],
      "text/plain": [
       "<IPython.core.display.Math object>"
      ]
     },
     "metadata": {},
     "output_type": "display_data"
    },
    {
     "name": "stdout",
     "output_type": "stream",
     "text": [
      "\n",
      "ans =\n"
     ]
    },
    {
     "data": {
      "text/latex": [
       "$$\\frac{i \\, \\mathit{B2}_{z} k}{\\kappa}$$"
      ],
      "text/plain": [
       "<IPython.core.display.Math object>"
      ]
     },
     "metadata": {},
     "output_type": "display_data"
    },
    {
     "name": "stdout",
     "output_type": "stream",
     "text": [
      "\n",
      "sol=\n"
     ]
    },
    {
     "data": {
      "text/latex": [
       "$$\\mathit{B1}_{x} = \\frac{-i \\, \\mathit{B2}_{z} c^{2} \\kappa^{2} + i \\, \\mathit{B2}_{z} \\epsilon \\mu \\omega^{2}}{c^{2} k \\kappa}$$"
      ],
      "text/plain": [
       "<IPython.core.display.Math object>"
      ]
     },
     "metadata": {},
     "output_type": "display_data"
    },
    {
     "name": "stdout",
     "output_type": "stream",
     "text": [
      "eq_s_or_kappa =\n"
     ]
    },
    {
     "data": {
      "text/latex": [
       "$$-k^{2} + \\frac{\\epsilon \\mu \\omega^{2}}{c^{2}} = \\kappa^{2}$$"
      ],
      "text/plain": [
       "<IPython.core.display.Math object>"
      ]
     },
     "metadata": {},
     "output_type": "display_data"
    },
    {
     "name": "stdout",
     "output_type": "stream",
     "text": [
      "sol_s_or_kappa_2[0].rhs()=\n"
     ]
    },
    {
     "data": {
      "text/latex": [
       "$$-\\frac{c^{2} k^{2} - \\epsilon \\mu \\omega^{2}}{c^{2}}$$"
      ],
      "text/plain": [
       "<IPython.core.display.Math object>"
      ]
     },
     "metadata": {},
     "output_type": "display_data"
    },
    {
     "name": "stdout",
     "output_type": "stream",
     "text": [
      "\n",
      "ans =\n"
     ]
    },
    {
     "data": {
      "text/latex": [
       "$$\\mathit{B2}_{z} {\\left(-\\frac{i \\, \\kappa}{k} + \\frac{i \\, \\epsilon \\mu \\omega^{2}}{c^{2} k \\kappa}\\right)}$$"
      ],
      "text/plain": [
       "<IPython.core.display.Math object>"
      ]
     },
     "metadata": {},
     "output_type": "display_data"
    },
    {
     "name": "stdout",
     "output_type": "stream",
     "text": [
      "(B2_z, c, epsilon, k, kappa, mu, omega)\n",
      "sol_omega_2 =\n"
     ]
    },
    {
     "data": {
      "text/latex": [
       "$$\\frac{c^{2} k^{2} + c^{2} \\kappa^{2}}{\\epsilon \\mu}$$"
      ],
      "text/plain": [
       "<IPython.core.display.Math object>"
      ]
     },
     "metadata": {},
     "output_type": "display_data"
    },
    {
     "name": "stdout",
     "output_type": "stream",
     "text": [
      "som =\n"
     ]
    },
    {
     "data": {
      "text/latex": [
       "$$\\mathit{B2}_{z} {\\left(-\\frac{i \\, \\kappa}{k} + \\frac{i \\, {\\left(c^{2} k^{2} + c^{2} \\kappa^{2}\\right)}}{c^{2} k \\kappa}\\right)}$$"
      ],
      "text/plain": [
       "<IPython.core.display.Math object>"
      ]
     },
     "metadata": {},
     "output_type": "display_data"
    },
    {
     "name": "stdout",
     "output_type": "stream",
     "text": [
      "som =\n"
     ]
    },
    {
     "data": {
      "text/latex": [
       "$$\\frac{i \\, \\mathit{B2}_{z} k}{\\kappa}$$"
      ],
      "text/plain": [
       "<IPython.core.display.Math object>"
      ]
     },
     "metadata": {},
     "output_type": "display_data"
    },
    {
     "name": "stdout",
     "output_type": "stream",
     "text": [
      "\n"
     ]
    }
   ],
   "source": [
    "even_res_rotH_dielectric = rot_H_solve(even_M_rotH_dielectric, even_vars_dielectric, eq_kappa, kappa)"
   ]
  },
  {
   "cell_type": "code",
   "execution_count": 19,
   "metadata": {},
   "outputs": [
    {
     "name": "stdout",
     "output_type": "stream",
     "text": [
      "even_res_rotH_dielectric =\n"
     ]
    },
    {
     "data": {
      "text/latex": [
       "$$\\left[\\mathit{B1}_{x} = \\frac{i \\, \\mathit{B2}_{z} k}{\\kappa}, \\mathit{B1}_{x} = \\frac{i \\, \\mathit{B2}_{z} k}{\\kappa}\\right]$$"
      ],
      "text/plain": [
       "<IPython.core.display.Math object>"
      ]
     },
     "metadata": {},
     "output_type": "display_data"
    }
   ],
   "source": [
    "print (\"even_res_rotH_dielectric =\")\n",
    "display(Math(latex(even_res_rotH_dielectric)))"
   ]
  },
  {
   "cell_type": "code",
   "execution_count": 20,
   "metadata": {},
   "outputs": [
    {
     "name": "stdout",
     "output_type": "stream",
     "text": [
      "even_M_rotH_vacuum =\n"
     ]
    },
    {
     "data": {
      "text/latex": [
       "$$\\left(\\begin{array}{rr}\n",
       "-k^{2} e^{\\left(-s x\\right)} + \\frac{\\omega^{2} e^{\\left(-s x\\right)}}{c^{2}} & i \\, k s e^{\\left(-s x\\right)} \\\\\n",
       "i \\, k s e^{\\left(-s x\\right)} & s^{2} e^{\\left(-s x\\right)} + \\frac{\\omega^{2} e^{\\left(-s x\\right)}}{c^{2}}\n",
       "\\end{array}\\right)$$"
      ],
      "text/plain": [
       "<IPython.core.display.Math object>"
      ]
     },
     "metadata": {},
     "output_type": "display_data"
    }
   ],
   "source": [
    "even_vars_vacuum = [A2_x, A2_z]\n",
    "\n",
    "even_M_rotH_vacuum = GenerateMatrixSubs(eqsys_rotH_vacuum, even_vars_vacuum,  eqsys_even)\n",
    "print (\"even_M_rotH_vacuum =\")\n",
    "display(Math(latex(even_M_rotH_vacuum)))"
   ]
  },
  {
   "cell_type": "code",
   "execution_count": 21,
   "metadata": {},
   "outputs": [
    {
     "data": {
      "text/latex": [
       "$$\\left[i \\, \\mathit{A2}_{z} k s e^{\\left(-s x\\right)} - {\\left(k^{2} e^{\\left(-s x\\right)} - \\frac{\\omega^{2} e^{\\left(-s x\\right)}}{c^{2}}\\right)} \\mathit{A2}_{x} = 0, i \\, \\mathit{A2}_{x} k s e^{\\left(-s x\\right)} + {\\left(s^{2} e^{\\left(-s x\\right)} + \\frac{\\omega^{2} e^{\\left(-s x\\right)}}{c^{2}}\\right)} \\mathit{A2}_{z} = 0\\right]$$"
      ],
      "text/plain": [
       "<IPython.core.display.Math object>"
      ]
     },
     "metadata": {},
     "output_type": "display_data"
    },
    {
     "name": "stdout",
     "output_type": "stream",
     "text": [
      "sol=\n"
     ]
    },
    {
     "data": {
      "text/latex": [
       "$$\\mathit{A2}_{x} = \\frac{i \\, \\mathit{A2}_{z} c^{2} k s}{c^{2} k^{2} - \\omega^{2}}$$"
      ],
      "text/plain": [
       "<IPython.core.display.Math object>"
      ]
     },
     "metadata": {},
     "output_type": "display_data"
    },
    {
     "name": "stdout",
     "output_type": "stream",
     "text": [
      "eq_s_or_kappa =\n"
     ]
    },
    {
     "data": {
      "text/latex": [
       "$$s^{2} + \\frac{\\omega^{2}}{c^{2}} = k^{2}$$"
      ],
      "text/plain": [
       "<IPython.core.display.Math object>"
      ]
     },
     "metadata": {},
     "output_type": "display_data"
    },
    {
     "name": "stdout",
     "output_type": "stream",
     "text": [
      "sol_s_or_kappa_2[0].rhs()=\n"
     ]
    },
    {
     "data": {
      "text/latex": [
       "$$\\frac{c^{2} k^{2} - \\omega^{2}}{c^{2}}$$"
      ],
      "text/plain": [
       "<IPython.core.display.Math object>"
      ]
     },
     "metadata": {},
     "output_type": "display_data"
    },
    {
     "name": "stdout",
     "output_type": "stream",
     "text": [
      "\n",
      "ans =\n"
     ]
    },
    {
     "data": {
      "text/latex": [
       "$$\\frac{i \\, \\mathit{A2}_{z} k}{s}$$"
      ],
      "text/plain": [
       "<IPython.core.display.Math object>"
      ]
     },
     "metadata": {},
     "output_type": "display_data"
    },
    {
     "name": "stdout",
     "output_type": "stream",
     "text": [
      "\n",
      "sol=\n"
     ]
    },
    {
     "data": {
      "text/latex": [
       "$$\\mathit{A2}_{x} = \\frac{i \\, \\mathit{A2}_{z} c^{2} s^{2} + i \\, \\mathit{A2}_{z} \\omega^{2}}{c^{2} k s}$$"
      ],
      "text/plain": [
       "<IPython.core.display.Math object>"
      ]
     },
     "metadata": {},
     "output_type": "display_data"
    },
    {
     "name": "stdout",
     "output_type": "stream",
     "text": [
      "eq_s_or_kappa =\n"
     ]
    },
    {
     "data": {
      "text/latex": [
       "$$s^{2} + \\frac{\\omega^{2}}{c^{2}} = k^{2}$$"
      ],
      "text/plain": [
       "<IPython.core.display.Math object>"
      ]
     },
     "metadata": {},
     "output_type": "display_data"
    },
    {
     "name": "stdout",
     "output_type": "stream",
     "text": [
      "sol_s_or_kappa_2[0].rhs()=\n"
     ]
    },
    {
     "data": {
      "text/latex": [
       "$$\\frac{c^{2} k^{2} - \\omega^{2}}{c^{2}}$$"
      ],
      "text/plain": [
       "<IPython.core.display.Math object>"
      ]
     },
     "metadata": {},
     "output_type": "display_data"
    },
    {
     "name": "stdout",
     "output_type": "stream",
     "text": [
      "\n",
      "ans =\n"
     ]
    },
    {
     "data": {
      "text/latex": [
       "$$\\mathit{A2}_{z} {\\left(\\frac{i \\, s}{k} + \\frac{i \\, \\omega^{2}}{c^{2} k s}\\right)}$$"
      ],
      "text/plain": [
       "<IPython.core.display.Math object>"
      ]
     },
     "metadata": {},
     "output_type": "display_data"
    },
    {
     "name": "stdout",
     "output_type": "stream",
     "text": [
      "(A2_z, c, k, omega, s)\n",
      "sol_omega_2 =\n"
     ]
    },
    {
     "data": {
      "text/latex": [
       "$$c^{2} k^{2} - c^{2} s^{2}$$"
      ],
      "text/plain": [
       "<IPython.core.display.Math object>"
      ]
     },
     "metadata": {},
     "output_type": "display_data"
    },
    {
     "name": "stdout",
     "output_type": "stream",
     "text": [
      "som =\n"
     ]
    },
    {
     "data": {
      "text/latex": [
       "$$\\mathit{A2}_{z} {\\left(\\frac{i \\, s}{k} + \\frac{i \\, {\\left(c^{2} k^{2} - c^{2} s^{2}\\right)}}{c^{2} k s}\\right)}$$"
      ],
      "text/plain": [
       "<IPython.core.display.Math object>"
      ]
     },
     "metadata": {},
     "output_type": "display_data"
    },
    {
     "name": "stdout",
     "output_type": "stream",
     "text": [
      "som =\n"
     ]
    },
    {
     "data": {
      "text/latex": [
       "$$\\frac{i \\, \\mathit{A2}_{z} k}{s}$$"
      ],
      "text/plain": [
       "<IPython.core.display.Math object>"
      ]
     },
     "metadata": {},
     "output_type": "display_data"
    },
    {
     "name": "stdout",
     "output_type": "stream",
     "text": [
      "\n"
     ]
    }
   ],
   "source": [
    "even_res_rotH_vacuum = rot_H_solve(even_M_rotH_vacuum, even_vars_vacuum, eq_s, s)"
   ]
  },
  {
   "cell_type": "code",
   "execution_count": 22,
   "metadata": {},
   "outputs": [
    {
     "name": "stdout",
     "output_type": "stream",
     "text": [
      "even_res_rotH_vacuum =\n"
     ]
    },
    {
     "data": {
      "text/latex": [
       "$$\\left[\\mathit{A2}_{x} = \\frac{i \\, \\mathit{A2}_{z} k}{s}, \\mathit{A2}_{x} = \\frac{i \\, \\mathit{A2}_{z} k}{s}\\right]$$"
      ],
      "text/plain": [
       "<IPython.core.display.Math object>"
      ]
     },
     "metadata": {},
     "output_type": "display_data"
    }
   ],
   "source": [
    "print (\"even_res_rotH_vacuum =\")\n",
    "display(Math(latex(even_res_rotH_vacuum)))\n",
    "# even_res_rotH_vacuum = [_A2_x == I*_A2_z*k/s, _A2_x == I*_A2_z*k/s]"
   ]
  },
  {
   "cell_type": "code",
   "execution_count": 23,
   "metadata": {},
   "outputs": [
    {
     "name": "stdout",
     "output_type": "stream",
     "text": [
      "even_M =\n"
     ]
    },
    {
     "data": {
      "text/latex": [
       "$$\\left(\\begin{array}{rrrr}\n",
       "\\epsilon \\cos\\left(a \\kappa\\right) & 0 & -e^{\\left(-a s\\right)} & 0 \\\\\n",
       "0 & \\sin\\left(a \\kappa\\right) & 0 & -e^{\\left(-a s\\right)} \\\\\n",
       "\\epsilon \\cos\\left(a \\kappa\\right) & 0 & -e^{\\left(-a s\\right)} & 0 \\\\\n",
       "0 & -\\sin\\left(a \\kappa\\right) & 0 & e^{\\left(-a s\\right)} \\\\\n",
       "1 & -\\frac{i \\, k}{\\kappa} & 0 & 0 \\\\\n",
       "1 & -\\frac{i \\, k}{\\kappa} & 0 & 0 \\\\\n",
       "0 & 0 & 1 & -\\frac{i \\, k}{s} \\\\\n",
       "0 & 0 & 1 & -\\frac{i \\, k}{s}\n",
       "\\end{array}\\right)$$"
      ],
      "text/plain": [
       "<IPython.core.display.Math object>"
      ]
     },
     "metadata": {},
     "output_type": "display_data"
    }
   ],
   "source": [
    "even_M = GenerateMatrixSubs(eqsys_boundary_conditions + even_res_rotH_dielectric + even_res_rotH_vacuum, even_vars,  eqsys_even)\n",
    "print (\"even_M =\")\n",
    "display(Math(latex(even_M)))"
   ]
  },
  {
   "cell_type": "code",
   "execution_count": 24,
   "metadata": {},
   "outputs": [
    {
     "name": "stdout",
     "output_type": "stream",
     "text": [
      "\n",
      "M.nrows() 8\n",
      "M.ncols() 4\n",
      "M.rank() 4\n",
      "M.pivot_rows() = (0, 1, 4, 6)\n",
      "row = (epsilon*cos(a*kappa), 0, -e^(-a*s), 0)\n",
      "row = (0, sin(a*kappa), 0, -e^(-a*s))\n",
      "row = (epsilon*cos(a*kappa), 0, -e^(-a*s), 0)\n",
      "row = (0, -sin(a*kappa), 0, e^(-a*s))\n",
      "row = (1, -I*k/kappa, 0, 0)\n",
      "row = (1, -I*k/kappa, 0, 0)\n",
      "row = (0, 0, 1, -I*k/s)\n",
      "row = (0, 0, 1, -I*k/s)\n",
      "M_rows[ 0 ] =\n"
     ]
    },
    {
     "data": {
      "text/latex": [
       "$$\\left(\\epsilon \\cos\\left(a \\kappa\\right),\\,0,\\,-e^{\\left(-a s\\right)},\\,0\\right)$$"
      ],
      "text/plain": [
       "<IPython.core.display.Math object>"
      ]
     },
     "metadata": {},
     "output_type": "display_data"
    },
    {
     "name": "stdout",
     "output_type": "stream",
     "text": [
      "M_rows[ 1 ] =\n"
     ]
    },
    {
     "data": {
      "text/latex": [
       "$$\\left(0,\\,\\sin\\left(a \\kappa\\right),\\,0,\\,-e^{\\left(-a s\\right)}\\right)$$"
      ],
      "text/plain": [
       "<IPython.core.display.Math object>"
      ]
     },
     "metadata": {},
     "output_type": "display_data"
    },
    {
     "name": "stdout",
     "output_type": "stream",
     "text": [
      "M_rows[ 4 ] =\n"
     ]
    },
    {
     "data": {
      "text/latex": [
       "$$\\left(1,\\,-\\frac{i \\, k}{\\kappa},\\,0,\\,0\\right)$$"
      ],
      "text/plain": [
       "<IPython.core.display.Math object>"
      ]
     },
     "metadata": {},
     "output_type": "display_data"
    },
    {
     "name": "stdout",
     "output_type": "stream",
     "text": [
      "M_rows[ 6 ] =\n"
     ]
    },
    {
     "data": {
      "text/latex": [
       "$$\\left(0,\\,0,\\,1,\\,-\\frac{i \\, k}{s}\\right)$$"
      ],
      "text/plain": [
       "<IPython.core.display.Math object>"
      ]
     },
     "metadata": {},
     "output_type": "display_data"
    },
    {
     "name": "stdout",
     "output_type": "stream",
     "text": [
      "\n",
      "reduced_M.det() = I*epsilon*k*cos(a*kappa)*e^(-a*s)/kappa - I*k*e^(-a*s)*sin(a*kappa)/s\n"
     ]
    }
   ],
   "source": [
    "even_reduced_M = reduceDependedRows(even_M)\n",
    "even_reduced_M_det = even_reduced_M.det()"
   ]
  },
  {
   "cell_type": "code",
   "execution_count": 25,
   "metadata": {},
   "outputs": [
    {
     "name": "stdout",
     "output_type": "stream",
     "text": [
      "even_disp_eq =\n"
     ]
    },
    {
     "data": {
      "text/latex": [
       "$$\\left[s = \\frac{\\kappa \\sin\\left(a \\kappa\\right)}{\\epsilon \\cos\\left(a \\kappa\\right)}\\right]$$"
      ],
      "text/plain": [
       "<IPython.core.display.Math object>"
      ]
     },
     "metadata": {},
     "output_type": "display_data"
    }
   ],
   "source": [
    "even_disp_eq = solve([even_reduced_M_det == 0], s)\n",
    "print (\"even_disp_eq =\")\n",
    "display(Math(latex(even_disp_eq)))"
   ]
  },
  {
   "cell_type": "code",
   "execution_count": 26,
   "metadata": {},
   "outputs": [
    {
     "name": "stdout",
     "output_type": "stream",
     "text": [
      "even_H_dielectric_y (x)  I*B2_z*epsilon*omega*cos(kappa*x)/(c*kappa)\n",
      "even_H_vacuum1_y (x) = I*A2_z*omega*e^(s*x)/(c*s)\n",
      "even_H_vacuum2_y (x) = I*A2_z*omega*e^(-s*x)/(c*s)\n"
     ]
    }
   ],
   "source": [
    "even_H_dielectric_y (x) = H_dielectric_y (x).subs(even_res_rotH_dielectric[0]).subs(even_eqs_dielectric).subs(solve(eq_kappa,k^2)).full_simplify()\n",
    "even_H_vacuum1_y    (x) = H_vacuum1_y    (x).subs(eqsys_even).subs(even_res_rotH_vacuum[0]).subs(solve(eq_s,k^2)).full_simplify()\n",
    "even_H_vacuum2_y    (x) = H_vacuum2_y    (x).subs(eqsys_even).subs(even_res_rotH_vacuum[0]).subs(solve(eq_s,k^2)).full_simplify()\n",
    "\n",
    "print (\"even_H_dielectric_y (x) \", even_H_dielectric_y (x))\n",
    "print (\"even_H_vacuum1_y (x) =\", even_H_vacuum1_y (x))\n",
    "print (\"even_H_vacuum2_y (x) =\", even_H_vacuum2_y (x))\n"
   ]
  },
  {
   "cell_type": "code",
   "execution_count": 27,
   "metadata": {},
   "outputs": [
    {
     "name": "stdout",
     "output_type": "stream",
     "text": [
      "even_E_dielectric_z (x) = B2_z*sin(kappa*x)\n",
      "even_E_dielectric_x (x) = I*B2_z*k*cos(kappa*x)/kappa\n",
      "\n",
      "even_E_vacuum2_z (x) = A2_z*e^(-s*x)\n",
      "even_E_vacuum2_x (x) = I*A2_z*k*e^(-s*x)/s\n",
      "\n",
      "even_E_vacuum1_z (x) = -A2_z*e^(s*x)\n",
      "even_E_vacuum1_x (x) = I*A2_z*k*e^(s*x)/s\n",
      "\n"
     ]
    }
   ],
   "source": [
    "even_E_dielectric_z (x) = E_dielectric_z (x).subs(even_res_rotH_dielectric[0]).subs(even_eqs_dielectric).subs(solve(eq_kappa,k^2)).full_simplify()\n",
    "even_E_dielectric_x (x) = E_dielectric_x (x).subs(even_res_rotH_dielectric[0]).subs(even_eqs_dielectric).subs(solve(eq_kappa,k^2)).full_simplify()\n",
    "\n",
    "# x > a\n",
    "even_E_vacuum2_z (x) = E_vacuum2_z (x).subs(eqsys_even).subs(even_res_rotH_vacuum[0]).subs(solve(eq_s,k^2)).full_simplify()\n",
    "even_E_vacuum2_x (x) = E_vacuum2_x (x).subs(eqsys_even).subs(even_res_rotH_vacuum[0]).subs(solve(eq_s,k^2)).full_simplify()\n",
    "\n",
    "# x < -a\n",
    "even_E_vacuum1_z (x) = E_vacuum1_z (x).subs(eqsys_even).subs(even_res_rotH_vacuum[0]).subs(solve(eq_s,k^2)).full_simplify()\n",
    "even_E_vacuum1_x (x) = E_vacuum1_x (x).subs(eqsys_even).subs(even_res_rotH_vacuum[0]).subs(solve(eq_s,k^2)).full_simplify()\n",
    "\n",
    "\n",
    "print (\"even_E_dielectric_z (x) =\", even_E_dielectric_z (x))\n",
    "print (\"even_E_dielectric_x (x) =\", even_E_dielectric_x (x))\n",
    "print (\"\")\n",
    "\n",
    "print (\"even_E_vacuum2_z (x) =\", even_E_vacuum2_z (x))\n",
    "print (\"even_E_vacuum2_x (x) =\", even_E_vacuum2_x (x))\n",
    "print (\"\")\n",
    "\n",
    "print (\"even_E_vacuum1_z (x) =\", even_E_vacuum1_z (x))\n",
    "print (\"even_E_vacuum1_x (x) =\", even_E_vacuum1_x (x))\n",
    "print (\"\")"
   ]
  },
  {
   "cell_type": "code",
   "execution_count": 28,
   "metadata": {},
   "outputs": [],
   "source": [
    "# тангенциальная компонента напряженности магнитного поля\n",
    "even_eqHy_a  = even_H_vacuum2_y (a)  == even_H_dielectric_y (a)\n",
    "even_eqHy_ma = even_H_vacuum1_y (-a) == even_H_dielectric_y (-a)"
   ]
  },
  {
   "cell_type": "code",
   "execution_count": 29,
   "metadata": {},
   "outputs": [
    {
     "name": "stdout",
     "output_type": "stream",
     "text": [
      "even_A =\n"
     ]
    },
    {
     "data": {
      "text/latex": [
       "$$\\left[\\mathit{A2}_{z} = \\frac{\\mathit{B2}_{z} \\epsilon s \\cos\\left(a \\kappa\\right) e^{\\left(a s\\right)}}{\\kappa}\\right]$$"
      ],
      "text/plain": [
       "<IPython.core.display.Math object>"
      ]
     },
     "metadata": {},
     "output_type": "display_data"
    },
    {
     "name": "stdout",
     "output_type": "stream",
     "text": [
      "even_A =\n"
     ]
    },
    {
     "data": {
      "text/latex": [
       "$$\\mathit{B2}_{z} e^{\\left(a s\\right)} \\sin\\left(a \\kappa\\right)$$"
      ],
      "text/plain": [
       "<IPython.core.display.Math object>"
      ]
     },
     "metadata": {},
     "output_type": "display_data"
    }
   ],
   "source": [
    "even_A = solve (even_eqHy_a, A2_z)\n",
    "print (\"even_A =\")\n",
    "display(Math(latex(even_A)))\n",
    "even_A = ((even_A[0].rhs()/e^(a*s)).subs(even_disp_eq).full_simplify())*e^(a*s)\n",
    "print (\"even_A =\")\n",
    "display(Math(latex(even_A)))"
   ]
  },
  {
   "cell_type": "code",
   "execution_count": 30,
   "metadata": {},
   "outputs": [
    {
     "name": "stdout",
     "output_type": "stream",
     "text": [
      "even_eq_kappa =\n"
     ]
    },
    {
     "data": {
      "text/latex": [
       "$$-\\frac{c^{2} \\kappa^{2} \\sin\\left(a \\kappa\\right)^{2} - {\\left(\\epsilon^{3} \\mu \\cos\\left(a \\kappa\\right)^{2} - \\epsilon^{2} \\cos\\left(a \\kappa\\right)^{2}\\right)} \\omega^{2}}{c^{2} \\epsilon^{2} \\cos\\left(a \\kappa\\right)^{2}} = \\kappa^{2}$$"
      ],
      "text/plain": [
       "<IPython.core.display.Math object>"
      ]
     },
     "metadata": {},
     "output_type": "display_data"
    }
   ],
   "source": [
    "even_eq_kappa = eq_kappa_s.subs(even_disp_eq).full_simplify()\n",
    "print(\"even_eq_kappa =\")\n",
    "display(Math(latex(even_eq_kappa)))"
   ]
  },
  {
   "cell_type": "code",
   "execution_count": 31,
   "metadata": {},
   "outputs": [
    {
     "name": "stdout",
     "output_type": "stream",
     "text": [
      "even_sol_kappa =\n"
     ]
    },
    {
     "data": {
      "text/latex": [
       "$$\\left[\\kappa^{2} = \\frac{{\\left(\\epsilon^{3} \\mu \\cos\\left(a \\kappa\\right)^{2} - \\epsilon^{2} \\cos\\left(a \\kappa\\right)^{2}\\right)} \\omega^{2}}{c^{2} \\epsilon^{2} \\cos\\left(a \\kappa\\right)^{2} + c^{2} \\sin\\left(a \\kappa\\right)^{2}}\\right]$$"
      ],
      "text/plain": [
       "<IPython.core.display.Math object>"
      ]
     },
     "metadata": {},
     "output_type": "display_data"
    }
   ],
   "source": [
    "even_sol_kappa = solve(even_eq_kappa, kappa)\n",
    "print(\"even_sol_kappa =\")\n",
    "display(Math(latex(even_sol_kappa)))"
   ]
  },
  {
   "cell_type": "code",
   "execution_count": 32,
   "metadata": {},
   "outputs": [
    {
     "name": "stdout",
     "output_type": "stream",
     "text": [
      "eq_s2 =\n"
     ]
    },
    {
     "data": {
      "text/latex": [
       "$$s^{2} = -\\kappa^{2} + \\frac{\\epsilon \\mu \\omega^{2}}{c^{2}} - \\frac{\\omega^{2}}{c^{2}}$$"
      ],
      "text/plain": [
       "<IPython.core.display.Math object>"
      ]
     },
     "metadata": {},
     "output_type": "display_data"
    },
    {
     "name": "stdout",
     "output_type": "stream",
     "text": [
      "eq_kappa2 =\n"
     ]
    },
    {
     "data": {
      "text/latex": [
       "$$\\kappa^{2} = \\frac{\\epsilon \\mu \\omega^{2}}{c^{2}} - s^{2} - \\frac{\\omega^{2}}{c^{2}}$$"
      ],
      "text/plain": [
       "<IPython.core.display.Math object>"
      ]
     },
     "metadata": {},
     "output_type": "display_data"
    },
    {
     "name": "stdout",
     "output_type": "stream",
     "text": [
      "eq_kappa2_s2 =\n"
     ]
    },
    {
     "data": {
      "text/latex": [
       "$$\\frac{\\omega^{2}}{c^{2}} = \\frac{\\kappa^{2} + s^{2}}{\\epsilon \\mu - 1}$$"
      ],
      "text/plain": [
       "<IPython.core.display.Math object>"
      ]
     },
     "metadata": {},
     "output_type": "display_data"
    }
   ],
   "source": [
    "# eq_kappa_s = eq_kappa.subs(solve(eq_s, k^2)).full_simplify()\n",
    "eq_s2 = eq_kappa_s.solve(s^2)\n",
    "eq_kappa2 = eq_kappa_s.solve(kappa^2)\n",
    "\n",
    "print(\"eq_s2 =\")\n",
    "display(Math(latex(eq_s2[0].expand())))\n",
    "print(\"eq_kappa2 =\")\n",
    "display(Math(latex(eq_kappa2[0].expand())))\n",
    "\n",
    "eq_kappa2_s2 = (eq_kappa_s.solve(omega^2)[0]/c^2).full_simplify()\n",
    "\n",
    "print(\"eq_kappa2_s2 =\")\n",
    "display(Math(latex(eq_kappa2_s2)))"
   ]
  },
  {
   "cell_type": "code",
   "execution_count": 33,
   "metadata": {},
   "outputs": [
    {
     "name": "stdout",
     "output_type": "stream",
     "text": [
      "[omega == 6.28318530717959e11, mu == 1, epsilon == 5, c == 29979245800]\n"
     ]
    }
   ],
   "source": [
    "# sgs\n",
    "A = 0.1\n",
    "kappa_A_max = 13*pi.n()/2\n",
    "s_A_max = 20\n",
    "digit_values = [omega == 2*pi.n()*10^11, mu == 1, epsilon == 5, c == 299792458 * 100]\n",
    "print (digit_values)"
   ]
  },
  {
   "cell_type": "code",
   "execution_count": 34,
   "metadata": {},
   "outputs": [
    {
     "name": "stdout",
     "output_type": "stream",
     "text": [
      "even_sol_kappa_d = kappa^2 == 43925.6635603965*cos(a*kappa)^2/(25*cos(a*kappa)^2 + sin(a*kappa)^2)\n"
     ]
    }
   ],
   "source": [
    "even_sol_kappa_d = even_sol_kappa[0].subs(digit_values)\n",
    "print(\"even_sol_kappa_d =\", even_sol_kappa_d)"
   ]
  },
  {
   "cell_type": "code",
   "execution_count": 35,
   "metadata": {},
   "outputs": [
    {
     "name": "stdout",
     "output_type": "stream",
     "text": [
      "even_disp_eq_d = s == 1/5*kappa*sin(a*kappa)/cos(a*kappa)\n"
     ]
    }
   ],
   "source": [
    "even_disp_eq_d = even_disp_eq[0].subs(digit_values)\n",
    "print (\"even_disp_eq_d =\", even_disp_eq_d)"
   ]
  },
  {
   "cell_type": "code",
   "execution_count": 36,
   "metadata": {},
   "outputs": [
    {
     "name": "stdout",
     "output_type": "stream",
     "text": [
      "even_disp_eq_da = a*s == 1/5*a*kappa*sin(a*kappa)/cos(a*kappa)\n"
     ]
    }
   ],
   "source": [
    "even_disp_eq_da = even_disp_eq_d * a\n",
    "print (\"even_disp_eq_da =\", even_disp_eq_da)"
   ]
  },
  {
   "cell_type": "code",
   "execution_count": 37,
   "metadata": {},
   "outputs": [
    {
     "name": "stdout",
     "output_type": "stream",
     "text": [
      "1/5*x*sin(x)/cos(x)\n"
     ]
    }
   ],
   "source": [
    "print (even_disp_eq_d.rhs().subs(a * kappa == x).subs(kappa == x))"
   ]
  },
  {
   "cell_type": "code",
   "execution_count": 38,
   "metadata": {},
   "outputs": [
    {
     "name": "stdout",
     "output_type": "stream",
     "text": [
      "r = sqrt(epsilon*mu - 1)*omega/c\n",
      "r = 41.9169004390336\n"
     ]
    }
   ],
   "source": [
    "r = omega / c * sqrt(epsilon * mu - 1)\n",
    "print (\"r =\", r)\n",
    "\n",
    "r = r.subs(digit_values)\n",
    "print (\"r =\", r)"
   ]
  },
  {
   "cell_type": "code",
   "execution_count": 39,
   "metadata": {},
   "outputs": [
    {
     "name": "stdout",
     "output_type": "stream",
     "text": [
      "verbose 0 (3797: plot.py, generate_plot_points) WARNING: When plotting, failed to evaluate function at 158 points.\n",
      "verbose 0 (3797: plot.py, generate_plot_points) Last error message: 'Unable to compute f(20.420352248333657)'\n"
     ]
    },
    {
     "data": {
      "image/png": "[encoded data removed]",
      "text/plain": [
       "Graphics object consisting of 2 graphics primitives"
      ]
     },
     "metadata": {},
     "output_type": "display_data"
    }
   ],
   "source": [
    "even_disp_eq_fa = lambda x : even_disp_eq_d.rhs().subs(kappa * a == x).subs(kappa == x)\n",
    "p = plot([even_disp_eq_fa, sqrt((r * A)^2 - x^2)], (x, 0, kappa_A_max), ymin = 0, ymax = s_A_max)\n",
    "p.show()"
   ]
  },
  {
   "cell_type": "code",
   "execution_count": 40,
   "metadata": {},
   "outputs": [
    {
     "name": "stdout",
     "output_type": "stream",
     "text": [
      "verbose 0 (3797: plot.py, generate_plot_points) WARNING: When plotting, failed to evaluate function at 159 points.\n",
      "verbose 0 (3797: plot.py, generate_plot_points) Last error message: 'Unable to compute f(204.20352248333657)'\n"
     ]
    },
    {
     "data": {
      "image/png": "[encoded data removed]",
      "text/plain": [
       "Graphics object consisting of 2 graphics primitives"
      ]
     },
     "metadata": {},
     "output_type": "display_data"
    }
   ],
   "source": [
    "even_disp_eq_f = lambda x : even_disp_eq_d.rhs().subs(kappa == x).subs(a == A)\n",
    "p = plot([even_disp_eq_f, sqrt((r)^2 - x^2)], (x, 0, kappa_A_max / A), ymin = 0, ymax = s_A_max / A)\n",
    "p.show()"
   ]
  },
  {
   "cell_type": "code",
   "execution_count": 41,
   "metadata": {},
   "outputs": [
    {
     "name": "stdout",
     "output_type": "stream",
     "text": [
      "even_f(x) = 1/5*x*sin(0.100000000000000*x)/cos(0.100000000000000*x) - sqrt(-x^2 + 1757.02654241586)\n",
      "verbose 0 (3797: plot.py, generate_plot_points) WARNING: When plotting, failed to evaluate function at 159 points.\n",
      "verbose 0 (3797: plot.py, generate_plot_points) Last error message: 'unable to simplify to float approximation'\n"
     ]
    },
    {
     "data": {
      "image/png": "[encoded data removed]",
      "text/plain": [
       "Graphics object consisting of 1 graphics primitive"
      ]
     },
     "metadata": {},
     "output_type": "display_data"
    }
   ],
   "source": [
    "even_f = lambda x : even_disp_eq_f(x) - sqrt((r)^2 - x^2)\n",
    "print (\"even_f(x) =\",even_f(x))\n",
    "p = plot(even_f, (0, kappa_A_max / A), ymin = - s_A_max / A, ymax = s_A_max / A)\n",
    "p.show()"
   ]
  },
  {
   "cell_type": "code",
   "execution_count": 42,
   "metadata": {},
   "outputs": [
    {
     "name": "stdout",
     "output_type": "stream",
     "text": [
      "even_kappa_sol 14.946136934946512\n"
     ]
    }
   ],
   "source": [
    "even_kappa_sol = find_root(even_f(x) == 0, 0, pi/2/A)\n",
    "print(\"even_kappa_sol\", even_kappa_sol)"
   ]
  },
  {
   "cell_type": "code",
   "execution_count": 43,
   "metadata": {},
   "outputs": [
    {
     "name": "stdout",
     "output_type": "stream",
     "text": [
      "even_s_sol = 1/5*kappa*sin(a*kappa)/cos(a*kappa)\n"
     ]
    }
   ],
   "source": [
    "even_s_sol = even_disp_eq_d.rhs()\n",
    "print(\"even_s_sol =\", even_s_sol)"
   ]
  },
  {
   "cell_type": "code",
   "execution_count": 44,
   "metadata": {},
   "outputs": [
    {
     "name": "stdout",
     "output_type": "stream",
     "text": [
      "even_s_sol = 2.9892273869893025*sin(14.946136934946512*a)/cos(14.946136934946512*a)\n"
     ]
    }
   ],
   "source": [
    "even_s_sol = even_s_sol.subs(kappa == even_kappa_sol)\n",
    "print(\"even_s_sol =\", even_s_sol)"
   ]
  },
  {
   "cell_type": "code",
   "execution_count": 45,
   "metadata": {},
   "outputs": [
    {
     "name": "stdout",
     "output_type": "stream",
     "text": [
      "even_s_sol = 39.1617100384761\n"
     ]
    }
   ],
   "source": [
    "even_s_sol = even_s_sol.subs(a == A)\n",
    "print(\"even_s_sol =\", even_s_sol)"
   ]
  },
  {
   "cell_type": "code",
   "execution_count": 46,
   "metadata": {},
   "outputs": [
    {
     "name": "stdout",
     "output_type": "stream",
     "text": [
      "even_k_sol = [\n",
      "k == -sqrt(-c^2*kappa^2 + epsilon*mu*omega^2)/c,\n",
      "k == sqrt(-c^2*kappa^2 + epsilon*mu*omega^2)/c\n",
      "]\n"
     ]
    }
   ],
   "source": [
    "even_k_sol = solve(eq_kappa, k)\n",
    "print(\"even_k_sol =\", even_k_sol)"
   ]
  },
  {
   "cell_type": "code",
   "execution_count": 47,
   "metadata": {},
   "outputs": [
    {
     "name": "stdout",
     "output_type": "stream",
     "text": [
      "even_k_sol = 44.4172958287833\n"
     ]
    }
   ],
   "source": [
    "even_k_sol = abs(even_k_sol[0].rhs()).subs(digit_values).subs(kappa == even_kappa_sol)\n",
    "print(\"even_k_sol =\", even_k_sol)"
   ]
  },
  {
   "cell_type": "code",
   "execution_count": 48,
   "metadata": {},
   "outputs": [
    {
     "name": "stdout",
     "output_type": "stream",
     "text": [
      "even_E_dielectric_z_d (x) = sin(14.946136934946512*x)\n",
      "even_E_vacuum2_z_d (x) = 0.997099506421075*e^(-39.1617100384761*x + 3.91617100384761)\n"
     ]
    }
   ],
   "source": [
    "even_E_dielectric_z_d (x) = even_E_dielectric_z (x).subs(B2_z == 1, kappa == even_kappa_sol)\n",
    "print (\"even_E_dielectric_z_d (x) =\", even_E_dielectric_z_d (x))\n",
    "even_E_vacuum2_z_d (x) = even_E_vacuum2_z (x).subs(A2_z == even_A).subs(B2_z == 1, s == even_s_sol, kappa == even_kappa_sol, a == A)\n",
    "print (\"even_E_vacuum2_z_d (x) =\", even_E_vacuum2_z_d (x))"
   ]
  },
  {
   "cell_type": "code",
   "execution_count": 49,
   "metadata": {},
   "outputs": [
    {
     "name": "stdout",
     "output_type": "stream",
     "text": [
      "even_E_dielectric_x_d (x) = 2.9718244936541693*I*cos(14.946136934946512*x)\n",
      "even_E_vacuum2_x_d (x) = 1.13091240663203*I*e^(-39.1617100384761*x + 3.91617100384761)\n"
     ]
    }
   ],
   "source": [
    "even_E_dielectric_x_d (x) = even_E_dielectric_x (x).subs(B2_z == 1, kappa == even_kappa_sol, k = even_k_sol)\n",
    "print (\"even_E_dielectric_x_d (x) =\", even_E_dielectric_x_d (x))\n",
    "even_E_vacuum2_x_d (x) = even_E_vacuum2_x (x).subs(A2_z == even_A).subs(B2_z == 1, s == even_s_sol, kappa == even_kappa_sol, k == even_k_sol, a == A)\n",
    "print (\"even_E_vacuum2_x_d (x) =\", even_E_vacuum2_x_d (x))"
   ]
  },
  {
   "cell_type": "code",
   "execution_count": 50,
   "metadata": {},
   "outputs": [
    {
     "name": "stdout",
     "output_type": "stream",
     "text": [
      "even_H_dielectric_y_d (x) = 7.011326843430871*I*cos(14.946136934946512*x)\n",
      "even_H_vacuum2_y_d (x) = 0.533624817422403*I*e^(-39.1617100384761*x + 3.91617100384761)\n"
     ]
    }
   ],
   "source": [
    "even_H_dielectric_y_d (x) = even_H_dielectric_y (x).subs(B2_z == 1, kappa == even_kappa_sol).subs(digit_values)\n",
    "print (\"even_H_dielectric_y_d (x) =\", even_H_dielectric_y_d (x))\n",
    "even_H_vacuum2_y_d (x) = even_H_vacuum2_y (x).subs(A2_z == even_A).subs(B2_z == 1, s == even_s_sol, kappa == even_kappa_sol, a == A).subs(digit_values)\n",
    "print (\"even_H_vacuum2_y_d (x) =\", even_H_vacuum2_y_d (x))"
   ]
  },
  {
   "cell_type": "code",
   "execution_count": 51,
   "metadata": {},
   "outputs": [
    {
     "data": {
      "image/png": "[encoded data removed]",
      "text/plain": [
       "Graphics object consisting of 2 graphics primitives"
      ]
     },
     "metadata": {},
     "output_type": "display_data"
    }
   ],
   "source": [
    "p = plot(even_E_dielectric_z_d (x), (x, 0, A))\n",
    "p += plot(even_E_vacuum2_z_d (x), (x, A, 3*A))\n",
    "p.show()"
   ]
  },
  {
   "cell_type": "code",
   "execution_count": 52,
   "metadata": {},
   "outputs": [
    {
     "data": {
      "image/png": "[encoded data removed]",
      "text/plain": [
       "Graphics object consisting of 2 graphics primitives"
      ]
     },
     "metadata": {},
     "output_type": "display_data"
    }
   ],
   "source": [
    "p = plot(even_E_dielectric_x_d (x).imag(), (x, 0, A))\n",
    "p += plot(even_E_vacuum2_x_d (x).imag(), (x, A, 3*A))\n",
    "p.show()"
   ]
  },
  {
   "cell_type": "code",
   "execution_count": 53,
   "metadata": {},
   "outputs": [
    {
     "data": {
      "image/png": "[encoded data removed]",
      "text/plain": [
       "Graphics object consisting of 2 graphics primitives"
      ]
     },
     "metadata": {},
     "output_type": "display_data"
    }
   ],
   "source": [
    "p = plot(even_E_dielectric_x_d (x).imag()*epsilon.subs(digit_values), (x, 0, A))\n",
    "p += plot(even_E_vacuum2_x_d (x).imag(), (x, A, 3*A))\n",
    "p.show()"
   ]
  },
  {
   "cell_type": "code",
   "execution_count": 54,
   "metadata": {},
   "outputs": [
    {
     "data": {
      "image/png": "[encoded data removed]",
      "text/plain": [
       "Graphics object consisting of 2 graphics primitives"
      ]
     },
     "metadata": {},
     "output_type": "display_data"
    }
   ],
   "source": [
    "p = plot(even_H_dielectric_y_d (x).imag(), (x, 0, A))\n",
    "p += plot(even_H_vacuum2_y_d (x).imag(), (x, A, 3*A))\n",
    "p.show()"
   ]
  },
  {
   "cell_type": "markdown",
   "metadata": {},
   "source": [
    "Решение получено и соответствует приведенному в решебнике ответу.\n",
    "\n",
    "Теперь посчитаем:\n",
    "\n",
    "1) силу Абрагама, приложенную к диэлектрику\n",
    "\n",
    "2) пондемоторную силу, приложенную к идеальному проводнику\n",
    "\n",
    "3) импульс поля в вакууме"
   ]
  },
  {
   "cell_type": "code",
   "execution_count": 55,
   "metadata": {},
   "outputs": [
    {
     "name": "stdout",
     "output_type": "stream",
     "text": [
      "f_x = 0\n"
     ]
    },
    {
     "data": {
      "text/latex": [
       "$$0$$"
      ],
      "text/plain": [
       "<IPython.core.display.Math object>"
      ]
     },
     "metadata": {},
     "output_type": "display_data"
    }
   ],
   "source": [
    "# Abraham force\n",
    "# (epsilon * mu - 1) / (4 * pi * c) * ([E x H]).diff(t)\n",
    "# (epsilon * mu - 1) / (4 * pi * c) * ([E.diff(t) x H] + [E x H.diff(t)])\n",
    "# ([a x b])_x = a_y * b_z - a_z * b_y\n",
    "# f_x = (epsilon * mu - 1) / (4 * pi * c) * (-E_z.diff(t) * H_y - E_z * H_y.diff(t))\n",
    "# E_z.diff(t) = -I * omega * E_z\n",
    "# H_y.diff(t) = -I * omega * H_y\n",
    "\n",
    "#\n",
    "# alpha = - omega * t\n",
    "#\n",
    "\n",
    "# f_x = (epsilon * mu - 1) / (4 * pi * c) * \n",
    "#       integrate(\n",
    "#         ( - Re(-I*omega * E_z * e^alpha) * Re(H_y * e^alpha)) +\n",
    "#         ( - Re(E_z * e^alpha) * Re(-I*omega * H_y * e^alpha)) \n",
    "#       (alpha, 0, 2*pi))\n",
    "\n",
    "\n",
    "# f_x = (epsilon * mu - 1) / (2 * 4 * pi * c) * (\n",
    "#             ( - Re(-I*omega * E_z) * Re(H_y) - Im(-I*omega * E_z) * Im(H_y)) +\n",
    "#             ( - Re(E_z) * Re(-I*omega * H_y) - Im(E_z) * Im(-I*omega * H_y)) \n",
    "#       )\n",
    "\n",
    "f_x(x) = (epsilon * mu - 1) / (8 * pi * c) * \\\n",
    "    ( \\\n",
    "        - ( -I * omega * even_E_dielectric_z (x)).real_part() * (even_H_dielectric_y (x)).real_part() \\\n",
    "        - ( -I * omega * even_E_dielectric_z (x)).imag_part() * (even_H_dielectric_y (x)).imag_part() \\\n",
    "        - (even_E_dielectric_z (x)).real_part() * ( -I * omega * even_H_dielectric_y (x)).real_part() \\\n",
    "        - (even_E_dielectric_z (x)).imag_part() * ( -I * omega * even_H_dielectric_y (x)).imag_part() \\\n",
    "    )\n",
    "print(\"f_x =\", f_x(x))\n",
    "display(Math(latex(f_x(x))))"
   ]
  },
  {
   "cell_type": "code",
   "execution_count": 56,
   "metadata": {},
   "outputs": [
    {
     "name": "stdout",
     "output_type": "stream",
     "text": [
      "f_x =\n"
     ]
    },
    {
     "data": {
      "text/latex": [
       "$$0$$"
      ],
      "text/plain": [
       "<IPython.core.display.Math object>"
      ]
     },
     "metadata": {},
     "output_type": "display_data"
    }
   ],
   "source": [
    "f_x(x) = f_x(x).subs(digit_values)\n",
    "print(\"f_x =\")\n",
    "display(Math(latex(f_x(x))))"
   ]
  },
  {
   "cell_type": "code",
   "execution_count": 57,
   "metadata": {},
   "outputs": [
    {
     "name": "stdout",
     "output_type": "stream",
     "text": [
      "f_x = 0\n"
     ]
    },
    {
     "data": {
      "image/png": "[encoded data removed]",
      "text/plain": [
       "Graphics object consisting of 1 graphics primitive"
      ]
     },
     "execution_count": 57,
     "metadata": {},
     "output_type": "execute_result"
    }
   ],
   "source": [
    "f_x(x) = f_x(x).subs(B2_z == 1, kappa == even_kappa_sol)\n",
    "print(\"f_x =\", f_x(x))\n",
    "plot(f_x(x), (x, 0, A))"
   ]
  },
  {
   "cell_type": "code",
   "execution_count": 58,
   "metadata": {},
   "outputs": [
    {
     "name": "stdout",
     "output_type": "stream",
     "text": [
      "F_x = 0\n"
     ]
    }
   ],
   "source": [
    "F_x = integrate(f_x(x), (x, 0, A))\n",
    "print(\"F_x =\", F_x)"
   ]
  },
  {
   "cell_type": "code",
   "execution_count": 59,
   "metadata": {},
   "outputs": [
    {
     "name": "stdout",
     "output_type": "stream",
     "text": [
      "f_superconductor = -1/8*abs(B2_z^2*epsilon^2*omega^2/(c^2*kappa^2))/pi\n"
     ]
    }
   ],
   "source": [
    "# superconductor force\n",
    "f_superconductor = - abs((even_H_dielectric_y (0)^2) / (8* pi))\n",
    "print(\"f_superconductor =\", f_superconductor)"
   ]
  },
  {
   "cell_type": "code",
   "execution_count": 60,
   "metadata": {},
   "outputs": [
    {
     "name": "stdout",
     "output_type": "stream",
     "text": [
      "f_superconductor = -6.14483801317679/pi\n"
     ]
    }
   ],
   "source": [
    "f_superconductor = f_superconductor.subs(digit_values).subs(B2_z == 1, kappa == even_kappa_sol)\n",
    "print(\"f_superconductor =\", f_superconductor)"
   ]
  },
  {
   "cell_type": "code",
   "execution_count": 61,
   "metadata": {},
   "outputs": [
    {
     "name": "stdout",
     "output_type": "stream",
     "text": [
      "p_x = -1/4*I*A2_z^2*omega*e^(-2*s*x)/(pi*c^2*s)\n"
     ]
    }
   ],
   "source": [
    "# vacuum field impuls\n",
    "# 1 / (4 * pi * c) * ([E x H])\n",
    "# p_x = 1 / (4 * pi * c) * (- E_z * H_y)\n",
    "\n",
    "p_x(x) = - 1 / (4 * pi * c) * even_E_vacuum2_z (x) * even_H_vacuum2_y (x)\n",
    "print(\"p_x =\", p_x(x))"
   ]
  },
  {
   "cell_type": "code",
   "execution_count": 62,
   "metadata": {},
   "outputs": [
    {
     "name": "stdout",
     "output_type": "stream",
     "text": [
      "p_x = -1/4*I*B2_z^2*omega*e^(2*a*s - 2*s*x)*sin(a*kappa)^2/(pi*c^2*s)\n",
      "p_x = -(4.43704492781065e-12*I)*e^(-78.3234200769521*x + 7.83234200769521)/pi\n",
      "P_x -(5.6650295958109196e-14*I)/pi\n"
     ]
    }
   ],
   "source": [
    "p_x(x) = p_x(x).subs( A2_z == even_A)\n",
    "print(\"p_x =\", p_x(x))\n",
    "\n",
    "p_x(x) = p_x(x).subs( s == even_s_sol).subs(digit_values).subs(B2_z == 1, kappa == even_kappa_sol, a == A)\n",
    "print(\"p_x =\", p_x(x))\n",
    "P_x = integrate(p_x(x), (x, A, infinity))\n",
    "print(\"P_x\", P_x)"
   ]
  },
  {
   "cell_type": "markdown",
   "metadata": {},
   "source": [
    "Результаты вычислений показывают, что если зеркало используется в качестве волновода, или резонатора, то на него должна действовать подъёмная сила"
   ]
  },
  {
   "cell_type": "code",
   "execution_count": null,
   "metadata": {},
   "outputs": [],
   "source": []
  }
 ],
 "metadata": {
  "kernelspec": {
   "display_name": "SageMath 9.1",
   "language": "sage",
   "name": "sagemath"
  },
  "language_info": {
   "codemirror_mode": {
    "name": "ipython",
    "version": 3
   },
   "file_extension": ".py",
   "mimetype": "text/x-python",
   "name": "python",
   "nbconvert_exporter": "python",
   "pygments_lexer": "ipython3",
   "version": "3.7.9"
  }
 },
 "nbformat": 4,
 "nbformat_minor": 2
}
